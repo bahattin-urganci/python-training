{
 "cells": [
  {
   "cell_type": "code",
   "execution_count": 2,
   "metadata": {},
   "outputs": [
    {
     "name": "stderr",
     "output_type": "stream",
     "text": [
      "C:\\Program Files (x86)\\Microsoft Visual Studio\\Shared\\Anaconda3_64\\lib\\site-packages\\sklearn\\cross_validation.py:41: DeprecationWarning: This module was deprecated in version 0.18 in favor of the model_selection module into which all the refactored classes and functions are moved. Also note that the interface of the new CV iterators are different from that of this module. This module will be removed in 0.20.\n",
      "  \"This module will be removed in 0.20.\", DeprecationWarning)\n",
      "C:\\Program Files (x86)\\Microsoft Visual Studio\\Shared\\Anaconda3_64\\lib\\site-packages\\sklearn\\grid_search.py:42: DeprecationWarning: This module was deprecated in version 0.18 in favor of the model_selection module into which all the refactored classes and functions are moved. This module will be removed in 0.20.\n",
      "  DeprecationWarning)\n"
     ]
    }
   ],
   "source": [
    "import os\n",
    "import fnmatch\n",
    "from textblob import TextBlob\n",
    "import pandas as pd\n",
    "from sklearn.feature_extraction.text import TfidfVectorizer\n",
    "from nltk.corpus import stopwords\n",
    "from nltk import pos_tag, pos_tag_sents\n",
    "import regex as re\n",
    "import operator\n",
    "from sklearn.svm import SVC, LinearSVC\n",
    "from sklearn.metrics import classification_report, accuracy_score, confusion_matrix\n",
    "from sklearn.cross_validation import train_test_split\n",
    "from sklearn import metrics\n",
    "from sklearn import svm\n",
    "from sklearn.grid_search import GridSearchCV\n",
    "import pickle"
   ]
  },
  {
   "cell_type": "code",
   "execution_count": 3,
   "metadata": {
    "collapsed": true
   },
   "outputs": [],
   "source": [
    "#You will first iterate over all the text files and get the absolute path of all the text files \n",
    "#through which you will then extract the corresponding labels."
   ]
  },
  {
   "cell_type": "code",
   "execution_count": 4,
   "metadata": {
    "collapsed": true
   },
   "outputs": [],
   "source": [
    "path = \"op_spam_train/\"\n",
    "label = []\n",
    "\n",
    "configFiles = [os.path.join(subdir, f)\n",
    "               for subdir, dirs, files in os.walk(path)\n",
    "               for f in fnmatch.filter(files, '*.txt')]\n"
   ]
  },
  {
   "cell_type": "code",
   "execution_count": 5,
   "metadata": {},
   "outputs": [
    {
     "data": {
      "text/plain": [
       "1600"
      ]
     },
     "execution_count": 5,
     "metadata": {},
     "output_type": "execute_result"
    }
   ],
   "source": [
    "len(configFiles)\n"
   ]
  },
  {
   "cell_type": "code",
   "execution_count": 6,
   "metadata": {},
   "outputs": [
    {
     "data": {
      "text/plain": [
       "'op_spam_train/negative_polarity\\\\deceptive_from_MTurk\\\\fold1\\\\d_hilton_10.txt'"
      ]
     },
     "execution_count": 6,
     "metadata": {},
     "output_type": "execute_result"
    }
   ],
   "source": [
    "configFiles[1]"
   ]
  },
  {
   "cell_type": "code",
   "execution_count": 7,
   "metadata": {
    "collapsed": true
   },
   "outputs": [],
   "source": [
    "#So, from the above output, you can observe that in order to extract the labels we need some kind of filter.\n",
    "#And for that, you will use Regex also known as a regular expression."
   ]
  },
  {
   "cell_type": "code",
   "execution_count": 8,
   "metadata": {
    "collapsed": true
   },
   "outputs": [],
   "source": [
    "for i in configFiles:\n",
    "    c=re.search('(trut|deceptiv)\\w',i)\n",
    "    label.append(c.group())"
   ]
  },
  {
   "cell_type": "code",
   "execution_count": 9,
   "metadata": {
    "collapsed": true
   },
   "outputs": [],
   "source": [
    "labels=pd.DataFrame(label,columns=['Labels'])"
   ]
  },
  {
   "cell_type": "code",
   "execution_count": 10,
   "metadata": {},
   "outputs": [
    {
     "data": {
      "text/html": [
       "<div>\n",
       "<style>\n",
       "    .dataframe thead tr:only-child th {\n",
       "        text-align: right;\n",
       "    }\n",
       "\n",
       "    .dataframe thead th {\n",
       "        text-align: left;\n",
       "    }\n",
       "\n",
       "    .dataframe tbody tr th {\n",
       "        vertical-align: top;\n",
       "    }\n",
       "</style>\n",
       "<table border=\"1\" class=\"dataframe\">\n",
       "  <thead>\n",
       "    <tr style=\"text-align: right;\">\n",
       "      <th></th>\n",
       "      <th>Labels</th>\n",
       "    </tr>\n",
       "  </thead>\n",
       "  <tbody>\n",
       "    <tr>\n",
       "      <th>0</th>\n",
       "      <td>deceptive</td>\n",
       "    </tr>\n",
       "    <tr>\n",
       "      <th>1</th>\n",
       "      <td>deceptive</td>\n",
       "    </tr>\n",
       "    <tr>\n",
       "      <th>2</th>\n",
       "      <td>deceptive</td>\n",
       "    </tr>\n",
       "    <tr>\n",
       "      <th>3</th>\n",
       "      <td>deceptive</td>\n",
       "    </tr>\n",
       "    <tr>\n",
       "      <th>4</th>\n",
       "      <td>deceptive</td>\n",
       "    </tr>\n",
       "    <tr>\n",
       "      <th>5</th>\n",
       "      <td>deceptive</td>\n",
       "    </tr>\n",
       "    <tr>\n",
       "      <th>6</th>\n",
       "      <td>deceptive</td>\n",
       "    </tr>\n",
       "    <tr>\n",
       "      <th>7</th>\n",
       "      <td>deceptive</td>\n",
       "    </tr>\n",
       "    <tr>\n",
       "      <th>8</th>\n",
       "      <td>deceptive</td>\n",
       "    </tr>\n",
       "    <tr>\n",
       "      <th>9</th>\n",
       "      <td>deceptive</td>\n",
       "    </tr>\n",
       "  </tbody>\n",
       "</table>\n",
       "</div>"
      ],
      "text/plain": [
       "      Labels\n",
       "0  deceptive\n",
       "1  deceptive\n",
       "2  deceptive\n",
       "3  deceptive\n",
       "4  deceptive\n",
       "5  deceptive\n",
       "6  deceptive\n",
       "7  deceptive\n",
       "8  deceptive\n",
       "9  deceptive"
      ]
     },
     "execution_count": 10,
     "metadata": {},
     "output_type": "execute_result"
    }
   ],
   "source": [
    "labels.head(10)"
   ]
  },
  {
   "cell_type": "code",
   "execution_count": 11,
   "metadata": {
    "collapsed": true
   },
   "outputs": [],
   "source": [
    "##Fetch all the reviews and append in a list"
   ]
  },
  {
   "cell_type": "code",
   "execution_count": 12,
   "metadata": {
    "collapsed": true
   },
   "outputs": [],
   "source": [
    "review=[]\n",
    "directory=os.path.join(path)\n",
    "for subdir,dirs,files in os.walk(directory):\n",
    "    for file in files:\n",
    "        if fnmatch.filter(files,\"*.txt\"):\n",
    "            f=open(os.path.join(subdir,file),'r')\n",
    "            a=f.read()\n",
    "            review.append(a)\n",
    "reviews=pd.DataFrame(review,columns=['HotelReviews'])"
   ]
  },
  {
   "cell_type": "code",
   "execution_count": 13,
   "metadata": {},
   "outputs": [
    {
     "data": {
      "text/html": [
       "<div>\n",
       "<style>\n",
       "    .dataframe thead tr:only-child th {\n",
       "        text-align: right;\n",
       "    }\n",
       "\n",
       "    .dataframe thead th {\n",
       "        text-align: left;\n",
       "    }\n",
       "\n",
       "    .dataframe tbody tr th {\n",
       "        vertical-align: top;\n",
       "    }\n",
       "</style>\n",
       "<table border=\"1\" class=\"dataframe\">\n",
       "  <thead>\n",
       "    <tr style=\"text-align: right;\">\n",
       "      <th></th>\n",
       "      <th>HotelReviews</th>\n",
       "    </tr>\n",
       "  </thead>\n",
       "  <tbody>\n",
       "    <tr>\n",
       "      <th>0</th>\n",
       "      <td>We stayed at the Schicago Hilton for 4 days an...</td>\n",
       "    </tr>\n",
       "    <tr>\n",
       "      <th>1</th>\n",
       "      <td>Hotel is located 1/2 mile from the train stati...</td>\n",
       "    </tr>\n",
       "    <tr>\n",
       "      <th>2</th>\n",
       "      <td>I made my reservation at the Hilton Chicago be...</td>\n",
       "    </tr>\n",
       "    <tr>\n",
       "      <th>3</th>\n",
       "      <td>When most people think Hilton, they think luxu...</td>\n",
       "    </tr>\n",
       "    <tr>\n",
       "      <th>4</th>\n",
       "      <td>My husband and I recently stayed stayed at the...</td>\n",
       "    </tr>\n",
       "    <tr>\n",
       "      <th>5</th>\n",
       "      <td>My wife and I booked a room at the Hilton Chic...</td>\n",
       "    </tr>\n",
       "    <tr>\n",
       "      <th>6</th>\n",
       "      <td>For a hotel rated with four diamonds by AAA, o...</td>\n",
       "    </tr>\n",
       "    <tr>\n",
       "      <th>7</th>\n",
       "      <td>I had high hopes for the Hilton Chicago, but I...</td>\n",
       "    </tr>\n",
       "    <tr>\n",
       "      <th>8</th>\n",
       "      <td>We booked a room at the Hilton Chicago for two...</td>\n",
       "    </tr>\n",
       "    <tr>\n",
       "      <th>9</th>\n",
       "      <td>I've stayed at other hotels in Chicago, but th...</td>\n",
       "    </tr>\n",
       "  </tbody>\n",
       "</table>\n",
       "</div>"
      ],
      "text/plain": [
       "                                        HotelReviews\n",
       "0  We stayed at the Schicago Hilton for 4 days an...\n",
       "1  Hotel is located 1/2 mile from the train stati...\n",
       "2  I made my reservation at the Hilton Chicago be...\n",
       "3  When most people think Hilton, they think luxu...\n",
       "4  My husband and I recently stayed stayed at the...\n",
       "5  My wife and I booked a room at the Hilton Chic...\n",
       "6  For a hotel rated with four diamonds by AAA, o...\n",
       "7  I had high hopes for the Hilton Chicago, but I...\n",
       "8  We booked a room at the Hilton Chicago for two...\n",
       "9  I've stayed at other hotels in Chicago, but th..."
      ]
     },
     "execution_count": 13,
     "metadata": {},
     "output_type": "execute_result"
    }
   ],
   "source": [
    "reviews.head(10)"
   ]
  },
  {
   "cell_type": "code",
   "execution_count": 14,
   "metadata": {
    "collapsed": true
   },
   "outputs": [],
   "source": [
    "##Merge the review dataframe and label dataframe\n"
   ]
  },
  {
   "cell_type": "code",
   "execution_count": 15,
   "metadata": {
    "collapsed": true
   },
   "outputs": [],
   "source": [
    "result=pd.merge(reviews,labels,right_index=True,left_index=True)\n",
    "result['HotelReviews']=result['HotelReviews'].map(lambda x:x.lower())"
   ]
  },
  {
   "cell_type": "code",
   "execution_count": 16,
   "metadata": {},
   "outputs": [
    {
     "data": {
      "text/html": [
       "<div>\n",
       "<style>\n",
       "    .dataframe thead tr:only-child th {\n",
       "        text-align: right;\n",
       "    }\n",
       "\n",
       "    .dataframe thead th {\n",
       "        text-align: left;\n",
       "    }\n",
       "\n",
       "    .dataframe tbody tr th {\n",
       "        vertical-align: top;\n",
       "    }\n",
       "</style>\n",
       "<table border=\"1\" class=\"dataframe\">\n",
       "  <thead>\n",
       "    <tr style=\"text-align: right;\">\n",
       "      <th></th>\n",
       "      <th>HotelReviews</th>\n",
       "      <th>Labels</th>\n",
       "    </tr>\n",
       "  </thead>\n",
       "  <tbody>\n",
       "    <tr>\n",
       "      <th>0</th>\n",
       "      <td>we stayed at the schicago hilton for 4 days an...</td>\n",
       "      <td>deceptive</td>\n",
       "    </tr>\n",
       "    <tr>\n",
       "      <th>1</th>\n",
       "      <td>hotel is located 1/2 mile from the train stati...</td>\n",
       "      <td>deceptive</td>\n",
       "    </tr>\n",
       "    <tr>\n",
       "      <th>2</th>\n",
       "      <td>i made my reservation at the hilton chicago be...</td>\n",
       "      <td>deceptive</td>\n",
       "    </tr>\n",
       "    <tr>\n",
       "      <th>3</th>\n",
       "      <td>when most people think hilton, they think luxu...</td>\n",
       "      <td>deceptive</td>\n",
       "    </tr>\n",
       "    <tr>\n",
       "      <th>4</th>\n",
       "      <td>my husband and i recently stayed stayed at the...</td>\n",
       "      <td>deceptive</td>\n",
       "    </tr>\n",
       "  </tbody>\n",
       "</table>\n",
       "</div>"
      ],
      "text/plain": [
       "                                        HotelReviews     Labels\n",
       "0  we stayed at the schicago hilton for 4 days an...  deceptive\n",
       "1  hotel is located 1/2 mile from the train stati...  deceptive\n",
       "2  i made my reservation at the hilton chicago be...  deceptive\n",
       "3  when most people think hilton, they think luxu...  deceptive\n",
       "4  my husband and i recently stayed stayed at the...  deceptive"
      ]
     },
     "execution_count": 16,
     "metadata": {},
     "output_type": "execute_result"
    }
   ],
   "source": [
    "result.head()"
   ]
  },
  {
   "cell_type": "code",
   "execution_count": 17,
   "metadata": {
    "collapsed": true
   },
   "outputs": [],
   "source": [
    "#Remove stopwords from the Hotel Reviews column"
   ]
  },
  {
   "cell_type": "code",
   "execution_count": 18,
   "metadata": {},
   "outputs": [
    {
     "name": "stdout",
     "output_type": "stream",
     "text": [
      "[nltk_data] Downloading package stopwords to\n",
      "[nltk_data]     C:\\Users\\bahat\\AppData\\Roaming\\nltk_data...\n",
      "[nltk_data]   Package stopwords is already up-to-date!\n"
     ]
    },
    {
     "data": {
      "text/plain": [
       "True"
      ]
     },
     "execution_count": 18,
     "metadata": {},
     "output_type": "execute_result"
    }
   ],
   "source": [
    "import nltk\n",
    "nltk.download('stopwords')"
   ]
  },
  {
   "cell_type": "code",
   "execution_count": 19,
   "metadata": {
    "collapsed": true
   },
   "outputs": [],
   "source": [
    "stop=stopwords.words('english')\n",
    "result['review_without_stopwords']=result['HotelReviews'].apply(lambda x:' '.join([word for word in x.split() if word not in (stop)]))"
   ]
  },
  {
   "cell_type": "code",
   "execution_count": 20,
   "metadata": {},
   "outputs": [
    {
     "data": {
      "text/html": [
       "<div>\n",
       "<style>\n",
       "    .dataframe thead tr:only-child th {\n",
       "        text-align: right;\n",
       "    }\n",
       "\n",
       "    .dataframe thead th {\n",
       "        text-align: left;\n",
       "    }\n",
       "\n",
       "    .dataframe tbody tr th {\n",
       "        vertical-align: top;\n",
       "    }\n",
       "</style>\n",
       "<table border=\"1\" class=\"dataframe\">\n",
       "  <thead>\n",
       "    <tr style=\"text-align: right;\">\n",
       "      <th></th>\n",
       "      <th>HotelReviews</th>\n",
       "      <th>Labels</th>\n",
       "      <th>review_without_stopwords</th>\n",
       "    </tr>\n",
       "  </thead>\n",
       "  <tbody>\n",
       "    <tr>\n",
       "      <th>0</th>\n",
       "      <td>we stayed at the schicago hilton for 4 days an...</td>\n",
       "      <td>deceptive</td>\n",
       "      <td>stayed schicago hilton 4 days 3 nights confere...</td>\n",
       "    </tr>\n",
       "    <tr>\n",
       "      <th>1</th>\n",
       "      <td>hotel is located 1/2 mile from the train stati...</td>\n",
       "      <td>deceptive</td>\n",
       "      <td>hotel located 1/2 mile train station quite hik...</td>\n",
       "    </tr>\n",
       "    <tr>\n",
       "      <th>2</th>\n",
       "      <td>i made my reservation at the hilton chicago be...</td>\n",
       "      <td>deceptive</td>\n",
       "      <td>made reservation hilton chicago believing goin...</td>\n",
       "    </tr>\n",
       "    <tr>\n",
       "      <th>3</th>\n",
       "      <td>when most people think hilton, they think luxu...</td>\n",
       "      <td>deceptive</td>\n",
       "      <td>people think hilton, think luxury. know did. w...</td>\n",
       "    </tr>\n",
       "    <tr>\n",
       "      <th>4</th>\n",
       "      <td>my husband and i recently stayed stayed at the...</td>\n",
       "      <td>deceptive</td>\n",
       "      <td>husband recently stayed stayed hilton chicago ...</td>\n",
       "    </tr>\n",
       "  </tbody>\n",
       "</table>\n",
       "</div>"
      ],
      "text/plain": [
       "                                        HotelReviews     Labels  \\\n",
       "0  we stayed at the schicago hilton for 4 days an...  deceptive   \n",
       "1  hotel is located 1/2 mile from the train stati...  deceptive   \n",
       "2  i made my reservation at the hilton chicago be...  deceptive   \n",
       "3  when most people think hilton, they think luxu...  deceptive   \n",
       "4  my husband and i recently stayed stayed at the...  deceptive   \n",
       "\n",
       "                            review_without_stopwords  \n",
       "0  stayed schicago hilton 4 days 3 nights confere...  \n",
       "1  hotel located 1/2 mile train station quite hik...  \n",
       "2  made reservation hilton chicago believing goin...  \n",
       "3  people think hilton, think luxury. know did. w...  \n",
       "4  husband recently stayed stayed hilton chicago ...  "
      ]
     },
     "execution_count": 20,
     "metadata": {},
     "output_type": "execute_result"
    }
   ],
   "source": [
    "result.head()"
   ]
  },
  {
   "cell_type": "code",
   "execution_count": 21,
   "metadata": {
    "collapsed": true
   },
   "outputs": [],
   "source": [
    "#Extract parts of speech from Hotel Reviews which will be fed as a Feature Input to the model"
   ]
  },
  {
   "cell_type": "code",
   "execution_count": 22,
   "metadata": {},
   "outputs": [
    {
     "name": "stdout",
     "output_type": "stream",
     "text": [
      "[nltk_data] Downloading package punkt to\n",
      "[nltk_data]     C:\\Users\\bahat\\AppData\\Roaming\\nltk_data...\n",
      "[nltk_data]   Package punkt is already up-to-date!\n",
      "[nltk_data] Downloading package averaged_perceptron_tagger to\n",
      "[nltk_data]     C:\\Users\\bahat\\AppData\\Roaming\\nltk_data...\n",
      "[nltk_data]   Package averaged_perceptron_tagger is already up-to-\n",
      "[nltk_data]       date!\n"
     ]
    },
    {
     "data": {
      "text/plain": [
       "True"
      ]
     },
     "execution_count": 22,
     "metadata": {},
     "output_type": "execute_result"
    }
   ],
   "source": [
    "nltk.download('punkt')\n",
    "nltk.download('averaged_perceptron_tagger')"
   ]
  },
  {
   "cell_type": "code",
   "execution_count": 23,
   "metadata": {
    "collapsed": true
   },
   "outputs": [],
   "source": [
    "def pos(review_without_stopwords):\n",
    "    return TextBlob(review_without_stopwords).tags"
   ]
  },
  {
   "cell_type": "code",
   "execution_count": 24,
   "metadata": {
    "collapsed": true
   },
   "outputs": [],
   "source": [
    "os=result.review_without_stopwords.apply(pos)\n",
    "os1=pd.DataFrame(os)"
   ]
  },
  {
   "cell_type": "code",
   "execution_count": 25,
   "metadata": {},
   "outputs": [
    {
     "data": {
      "text/html": [
       "<div>\n",
       "<style>\n",
       "    .dataframe thead tr:only-child th {\n",
       "        text-align: right;\n",
       "    }\n",
       "\n",
       "    .dataframe thead th {\n",
       "        text-align: left;\n",
       "    }\n",
       "\n",
       "    .dataframe tbody tr th {\n",
       "        vertical-align: top;\n",
       "    }\n",
       "</style>\n",
       "<table border=\"1\" class=\"dataframe\">\n",
       "  <thead>\n",
       "    <tr style=\"text-align: right;\">\n",
       "      <th></th>\n",
       "      <th>review_without_stopwords</th>\n",
       "    </tr>\n",
       "  </thead>\n",
       "  <tbody>\n",
       "    <tr>\n",
       "      <th>0</th>\n",
       "      <td>[(stayed, VBN), (schicago, JJ), (hilton, NN), ...</td>\n",
       "    </tr>\n",
       "    <tr>\n",
       "      <th>1</th>\n",
       "      <td>[(hotel, NN), (located, VBD), (1/2, CD), (mile...</td>\n",
       "    </tr>\n",
       "    <tr>\n",
       "      <th>2</th>\n",
       "      <td>[(made, VBN), (reservation, NN), (hilton, NN),...</td>\n",
       "    </tr>\n",
       "    <tr>\n",
       "      <th>3</th>\n",
       "      <td>[(people, NNS), (think, VBP), (hilton, NN), (t...</td>\n",
       "    </tr>\n",
       "    <tr>\n",
       "      <th>4</th>\n",
       "      <td>[(husband, NN), (recently, RB), (stayed, VBD),...</td>\n",
       "    </tr>\n",
       "  </tbody>\n",
       "</table>\n",
       "</div>"
      ],
      "text/plain": [
       "                            review_without_stopwords\n",
       "0  [(stayed, VBN), (schicago, JJ), (hilton, NN), ...\n",
       "1  [(hotel, NN), (located, VBD), (1/2, CD), (mile...\n",
       "2  [(made, VBN), (reservation, NN), (hilton, NN),...\n",
       "3  [(people, NNS), (think, VBP), (hilton, NN), (t...\n",
       "4  [(husband, NN), (recently, RB), (stayed, VBD),..."
      ]
     },
     "execution_count": 25,
     "metadata": {},
     "output_type": "execute_result"
    }
   ],
   "source": [
    "os1.head()"
   ]
  },
  {
   "cell_type": "code",
   "execution_count": 26,
   "metadata": {
    "collapsed": true
   },
   "outputs": [],
   "source": [
    "os1['pos']=os1['review_without_stopwords'].map(lambda x :\" \".join([\"/\".join(x) for x in x]))"
   ]
  },
  {
   "cell_type": "code",
   "execution_count": 27,
   "metadata": {},
   "outputs": [
    {
     "data": {
      "text/html": [
       "<div>\n",
       "<style>\n",
       "    .dataframe thead tr:only-child th {\n",
       "        text-align: right;\n",
       "    }\n",
       "\n",
       "    .dataframe thead th {\n",
       "        text-align: left;\n",
       "    }\n",
       "\n",
       "    .dataframe tbody tr th {\n",
       "        vertical-align: top;\n",
       "    }\n",
       "</style>\n",
       "<table border=\"1\" class=\"dataframe\">\n",
       "  <thead>\n",
       "    <tr style=\"text-align: right;\">\n",
       "      <th></th>\n",
       "      <th>HotelReviews</th>\n",
       "      <th>Labels</th>\n",
       "      <th>review_without_stopwords_x</th>\n",
       "      <th>review_without_stopwords_y</th>\n",
       "      <th>pos</th>\n",
       "    </tr>\n",
       "  </thead>\n",
       "  <tbody>\n",
       "    <tr>\n",
       "      <th>0</th>\n",
       "      <td>we stayed at the schicago hilton for 4 days an...</td>\n",
       "      <td>deceptive</td>\n",
       "      <td>stayed schicago hilton 4 days 3 nights confere...</td>\n",
       "      <td>[(stayed, VBN), (schicago, JJ), (hilton, NN), ...</td>\n",
       "      <td>stayed/VBN schicago/JJ hilton/NN 4/CD days/NNS...</td>\n",
       "    </tr>\n",
       "    <tr>\n",
       "      <th>1</th>\n",
       "      <td>hotel is located 1/2 mile from the train stati...</td>\n",
       "      <td>deceptive</td>\n",
       "      <td>hotel located 1/2 mile train station quite hik...</td>\n",
       "      <td>[(hotel, NN), (located, VBD), (1/2, CD), (mile...</td>\n",
       "      <td>hotel/NN located/VBD 1/2/CD mile/NN train/NN s...</td>\n",
       "    </tr>\n",
       "    <tr>\n",
       "      <th>2</th>\n",
       "      <td>i made my reservation at the hilton chicago be...</td>\n",
       "      <td>deceptive</td>\n",
       "      <td>made reservation hilton chicago believing goin...</td>\n",
       "      <td>[(made, VBN), (reservation, NN), (hilton, NN),...</td>\n",
       "      <td>made/VBN reservation/NN hilton/NN chicago/NN b...</td>\n",
       "    </tr>\n",
       "    <tr>\n",
       "      <th>3</th>\n",
       "      <td>when most people think hilton, they think luxu...</td>\n",
       "      <td>deceptive</td>\n",
       "      <td>people think hilton, think luxury. know did. w...</td>\n",
       "      <td>[(people, NNS), (think, VBP), (hilton, NN), (t...</td>\n",
       "      <td>people/NNS think/VBP hilton/NN think/VBP luxur...</td>\n",
       "    </tr>\n",
       "    <tr>\n",
       "      <th>4</th>\n",
       "      <td>my husband and i recently stayed stayed at the...</td>\n",
       "      <td>deceptive</td>\n",
       "      <td>husband recently stayed stayed hilton chicago ...</td>\n",
       "      <td>[(husband, NN), (recently, RB), (stayed, VBD),...</td>\n",
       "      <td>husband/NN recently/RB stayed/VBD stayed/JJ hi...</td>\n",
       "    </tr>\n",
       "  </tbody>\n",
       "</table>\n",
       "</div>"
      ],
      "text/plain": [
       "                                        HotelReviews     Labels  \\\n",
       "0  we stayed at the schicago hilton for 4 days an...  deceptive   \n",
       "1  hotel is located 1/2 mile from the train stati...  deceptive   \n",
       "2  i made my reservation at the hilton chicago be...  deceptive   \n",
       "3  when most people think hilton, they think luxu...  deceptive   \n",
       "4  my husband and i recently stayed stayed at the...  deceptive   \n",
       "\n",
       "                          review_without_stopwords_x  \\\n",
       "0  stayed schicago hilton 4 days 3 nights confere...   \n",
       "1  hotel located 1/2 mile train station quite hik...   \n",
       "2  made reservation hilton chicago believing goin...   \n",
       "3  people think hilton, think luxury. know did. w...   \n",
       "4  husband recently stayed stayed hilton chicago ...   \n",
       "\n",
       "                          review_without_stopwords_y  \\\n",
       "0  [(stayed, VBN), (schicago, JJ), (hilton, NN), ...   \n",
       "1  [(hotel, NN), (located, VBD), (1/2, CD), (mile...   \n",
       "2  [(made, VBN), (reservation, NN), (hilton, NN),...   \n",
       "3  [(people, NNS), (think, VBP), (hilton, NN), (t...   \n",
       "4  [(husband, NN), (recently, RB), (stayed, VBD),...   \n",
       "\n",
       "                                                 pos  \n",
       "0  stayed/VBN schicago/JJ hilton/NN 4/CD days/NNS...  \n",
       "1  hotel/NN located/VBD 1/2/CD mile/NN train/NN s...  \n",
       "2  made/VBN reservation/NN hilton/NN chicago/NN b...  \n",
       "3  people/NNS think/VBP hilton/NN think/VBP luxur...  \n",
       "4  husband/NN recently/RB stayed/VBD stayed/JJ hi...  "
      ]
     },
     "execution_count": 27,
     "metadata": {},
     "output_type": "execute_result"
    }
   ],
   "source": [
    "result =pd.merge(result,os1,right_index=True,left_index=True)\n",
    "result.head()"
   ]
  },
  {
   "cell_type": "code",
   "execution_count": 28,
   "metadata": {
    "collapsed": true
   },
   "outputs": [],
   "source": [
    "###Training Phase\n",
    "##Split the Data into two parts 80% train and 20% test data"
   ]
  },
  {
   "cell_type": "code",
   "execution_count": 29,
   "metadata": {
    "collapsed": true
   },
   "outputs": [],
   "source": [
    "review_train,review_test,label_train,label_test=train_test_split(result['pos'],result['Labels'],test_size=0.2,random_state=13)"
   ]
  },
  {
   "cell_type": "code",
   "execution_count": 30,
   "metadata": {
    "collapsed": true
   },
   "outputs": [],
   "source": [
    "#Vectorize the Training and Testing data using TfidfVectorizer\n"
   ]
  },
  {
   "cell_type": "code",
   "execution_count": 31,
   "metadata": {
    "collapsed": true
   },
   "outputs": [],
   "source": [
    "tf_vect = TfidfVectorizer(lowercase=True,use_idf=True,smooth_idf=True,sublinear_tf=False)\n",
    "X_train_tf=tf_vect.fit_transform(review_train)\n",
    "X_test_tf=tf_vect.transform(review_test)"
   ]
  },
  {
   "cell_type": "code",
   "execution_count": 32,
   "metadata": {
    "collapsed": true
   },
   "outputs": [],
   "source": [
    "def svc_param_selection(X,y,nfolds):\n",
    "    Cs=[0.001,0.01,0.1,1,10]\n",
    "    gammas=[0.001,0.01,0.1,1]\n",
    "    param_grid={'C':Cs,'gamma':gammas}\n",
    "    grid_search=GridSearchCV(svm.SVC(kernel='linear'),param_grid,cv=nfolds)\n",
    "    grid_search.fit(X,y)\n",
    "    return grid_search.best_params_"
   ]
  },
  {
   "cell_type": "code",
   "execution_count": 33,
   "metadata": {},
   "outputs": [
    {
     "data": {
      "text/plain": [
       "{'C': 1, 'gamma': 0.001}"
      ]
     },
     "execution_count": 33,
     "metadata": {},
     "output_type": "execute_result"
    }
   ],
   "source": [
    "svc_param_selection(X_train_tf,label_train,5)"
   ]
  },
  {
   "cell_type": "code",
   "execution_count": 34,
   "metadata": {
    "collapsed": true
   },
   "outputs": [],
   "source": [
    "clf=svm.SVC(C=10,gamma=0.001,kernel='linear')\n",
    "clf.fit(X_train_tf,label_train)\n",
    "pred=clf.predict(X_test_tf)"
   ]
  },
  {
   "cell_type": "code",
   "execution_count": 35,
   "metadata": {
    "collapsed": true
   },
   "outputs": [],
   "source": [
    "##Save the Tfidf vectorizer and the ML model"
   ]
  },
  {
   "cell_type": "code",
   "execution_count": 36,
   "metadata": {
    "collapsed": true
   },
   "outputs": [],
   "source": [
    "with open('vectorizer.pickle','wb') as fin:\n",
    "    pickle.dump(tf_vect,fin)"
   ]
  },
  {
   "cell_type": "code",
   "execution_count": 37,
   "metadata": {
    "collapsed": true
   },
   "outputs": [],
   "source": [
    "with open('mlmodel.pickle','wb') as f:\n",
    "    pickle.dump(clf,f)"
   ]
  },
  {
   "cell_type": "code",
   "execution_count": 38,
   "metadata": {
    "collapsed": true
   },
   "outputs": [],
   "source": [
    "#Load the Tfidf vectorizer and the ML model"
   ]
  },
  {
   "cell_type": "code",
   "execution_count": 39,
   "metadata": {
    "collapsed": true
   },
   "outputs": [],
   "source": [
    "pkl=open('mlmodel.pickle','rb')\n",
    "clf=pickle.load(pkl)\n",
    "vec=open('vectorizer.pickle','rb')\n",
    "tf_vect=pickle.load(vec)"
   ]
  },
  {
   "cell_type": "code",
   "execution_count": 40,
   "metadata": {
    "collapsed": true
   },
   "outputs": [],
   "source": [
    "def test_string(s):\n",
    "    X_test_tf=tf_vect.transform([s])\n",
    "    y_predict=clf.predict(X_test_tf)\n",
    "    return y_predict"
   ]
  },
  {
   "cell_type": "code",
   "execution_count": 41,
   "metadata": {
    "collapsed": true
   },
   "outputs": [],
   "source": [
    "#Predict on the Test Data"
   ]
  },
  {
   "cell_type": "code",
   "execution_count": 42,
   "metadata": {
    "collapsed": true
   },
   "outputs": [],
   "source": [
    "X_test_tf=tf_vect.transform(review_test)\n",
    "pred=clf.predict(X_test_tf)"
   ]
  },
  {
   "cell_type": "code",
   "execution_count": 43,
   "metadata": {},
   "outputs": [
    {
     "name": "stdout",
     "output_type": "stream",
     "text": [
      "0.884375\n"
     ]
    }
   ],
   "source": [
    "print(metrics.accuracy_score(label_test,pred))"
   ]
  },
  {
   "cell_type": "code",
   "execution_count": 44,
   "metadata": {},
   "outputs": [
    {
     "name": "stdout",
     "output_type": "stream",
     "text": [
      "[[139  16]\n",
      " [ 21 144]]\n"
     ]
    }
   ],
   "source": [
    "print(confusion_matrix(label_test,pred))"
   ]
  },
  {
   "cell_type": "code",
   "execution_count": 45,
   "metadata": {
    "scrolled": true
   },
   "outputs": [
    {
     "name": "stdout",
     "output_type": "stream",
     "text": [
      "             precision    recall  f1-score   support\n",
      "\n",
      "  deceptive       0.87      0.90      0.88       155\n",
      "      truth       0.90      0.87      0.89       165\n",
      "\n",
      "avg / total       0.88      0.88      0.88       320\n",
      "\n"
     ]
    }
   ],
   "source": [
    "print(classification_report(label_test,pred))"
   ]
  },
  {
   "cell_type": "code",
   "execution_count": 46,
   "metadata": {
    "collapsed": true
   },
   "outputs": [],
   "source": [
    "#Test the model with two reviews from Yelp"
   ]
  },
  {
   "cell_type": "code",
   "execution_count": 47,
   "metadata": {},
   "outputs": [
    {
     "data": {
      "text/plain": [
       "array(['truth'], dtype=object)"
      ]
     },
     "execution_count": 47,
     "metadata": {},
     "output_type": "execute_result"
    }
   ],
   "source": [
    "test_string(\"The hotel was good.The room had a 27-inch Samsung led tv, a microwave.The room had a double bed\")"
   ]
  },
  {
   "cell_type": "code",
   "execution_count": 48,
   "metadata": {},
   "outputs": [
    {
     "data": {
      "text/plain": [
       "array(['truth'], dtype=object)"
      ]
     },
     "execution_count": 48,
     "metadata": {},
     "output_type": "execute_result"
    }
   ],
   "source": [
    "test_string(\"My family and I are huge fans of this place. The staff is super nice, and the food is great. The chicken is very good, and the garlic sauce is perfect. Ice cream topped with fruit is delicious too. Highly recommended!\")"
   ]
  },
  {
   "cell_type": "code",
   "execution_count": 49,
   "metadata": {},
   "outputs": [
    {
     "data": {
      "text/plain": [
       "array(['truth'], dtype=object)"
      ]
     },
     "execution_count": 49,
     "metadata": {},
     "output_type": "execute_result"
    }
   ],
   "source": [
    "test_string(\"very boring mcdoanlds good\")"
   ]
  },
  {
   "cell_type": "code",
   "execution_count": 50,
   "metadata": {
    "collapsed": true
   },
   "outputs": [],
   "source": [
    "# Test the Model using different Random States"
   ]
  },
  {
   "cell_type": "code",
   "execution_count": 51,
   "metadata": {
    "collapsed": true
   },
   "outputs": [],
   "source": [
    "review_train, review_test, label_train, label_test = train_test_split(result['pos'],result['Labels'], test_size=0.2,random_state=20)"
   ]
  },
  {
   "cell_type": "code",
   "execution_count": 52,
   "metadata": {
    "collapsed": true
   },
   "outputs": [],
   "source": [
    "X_test_tf=tf_vect.transform(review_test)\n",
    "pred=clf.predict(X_test_tf)"
   ]
  },
  {
   "cell_type": "code",
   "execution_count": 53,
   "metadata": {},
   "outputs": [
    {
     "name": "stdout",
     "output_type": "stream",
     "text": [
      "0.984375\n"
     ]
    }
   ],
   "source": [
    "print(metrics.accuracy_score(label_test,pred))"
   ]
  },
  {
   "cell_type": "code",
   "execution_count": 54,
   "metadata": {},
   "outputs": [
    {
     "name": "stdout",
     "output_type": "stream",
     "text": [
      "[[158   1]\n",
      " [  4 157]]\n"
     ]
    }
   ],
   "source": [
    "print (confusion_matrix(label_test, pred))"
   ]
  },
  {
   "cell_type": "code",
   "execution_count": 55,
   "metadata": {},
   "outputs": [
    {
     "name": "stdout",
     "output_type": "stream",
     "text": [
      "             precision    recall  f1-score   support\n",
      "\n",
      "  deceptive       0.98      0.99      0.98       159\n",
      "      truth       0.99      0.98      0.98       161\n",
      "\n",
      "avg / total       0.98      0.98      0.98       320\n",
      "\n"
     ]
    }
   ],
   "source": [
    "print (classification_report(label_test, pred))"
   ]
  },
  {
   "cell_type": "code",
   "execution_count": null,
   "metadata": {
    "collapsed": true
   },
   "outputs": [],
   "source": []
  }
 ],
 "metadata": {
  "kernelspec": {
   "display_name": "Python 3",
   "language": "python",
   "name": "python3"
  },
  "language_info": {
   "codemirror_mode": {
    "name": "ipython",
    "version": 3
   },
   "file_extension": ".py",
   "mimetype": "text/x-python",
   "name": "python",
   "nbconvert_exporter": "python",
   "pygments_lexer": "ipython3",
   "version": "3.6.2"
  }
 },
 "nbformat": 4,
 "nbformat_minor": 2
}
